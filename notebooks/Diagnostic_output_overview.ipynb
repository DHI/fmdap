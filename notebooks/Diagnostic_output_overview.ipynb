{
 "metadata": {
  "language_info": {
   "codemirror_mode": {
    "name": "ipython",
    "version": 3
   },
   "file_extension": ".py",
   "mimetype": "text/x-python",
   "name": "python",
   "nbconvert_exporter": "python",
   "pygments_lexer": "ipython3",
   "version": "3.8.10"
  },
  "orig_nbformat": 4,
  "kernelspec": {
   "name": "python3",
   "display_name": "Python 3.8.10 64-bit ('base': conda)"
  },
  "interpreter": {
   "hash": "fa576ebcd40e010bdc0ae86b06ce09151f3424f9e9aed6893ff04f39a9299d89"
  }
 },
 "nbformat": 4,
 "nbformat_minor": 2,
 "cells": [
  {
   "source": [
    "# Diagnostic output overview\n",
    "\n",
    "The MIKE FM DA module can output 3 different types of diagnostic outputs:\n",
    "\n",
    "1. Measurement diagnostic - which relates to a specific measurement\n",
    "2. Non-measurement point diagnostic - results for a specific variable and point\n",
    "3. Global assimilation statistics\n",
    "\n",
    "All are read by the FMDAp method `read_diagnostic()`"
   ],
   "cell_type": "markdown",
   "metadata": {}
  },
  {
   "cell_type": "code",
   "execution_count": 1,
   "metadata": {},
   "outputs": [],
   "source": [
    "import fmdap"
   ]
  },
  {
   "source": [
    "## Measurement diagnostic overview\n",
    "\n",
    "Measurement diagnostic (type 1) comes in two kinds depending on the type measurement they refer to:\n",
    "\n",
    "* point\n",
    "* spatially distributed (e.g. track measurement)\n",
    "\n",
    "They furthermore behave differently depending on presence of assimilation updates or not.\n",
    "\n",
    "Measurement diagnostic have the following main data properties:\n",
    "\n",
    "* forecast\n",
    "* result\n",
    "* innovation\n",
    "\n",
    "If the file contains updates (from assimilation) it will also have properties:\n",
    "\n",
    "* forecast_at_update\n",
    "* analysis\n",
    "* increment\n",
    "\n",
    "If the file does not have updates, the forecast and result properties will be identical. "
   ],
   "cell_type": "markdown",
   "metadata": {}
  },
  {
   "source": [
    "## Point measurement diagnostic with assimilation updates"
   ],
   "cell_type": "markdown",
   "metadata": {}
  },
  {
   "cell_type": "code",
   "execution_count": 5,
   "metadata": {},
   "outputs": [],
   "source": [
    "fn = '../tests/testdata/Diagnostics_F16_EnKF.dfs0'\n",
    "diag = fmdap.read_diagnostic(fn)"
   ]
  },
  {
   "cell_type": "code",
   "execution_count": 6,
   "metadata": {},
   "outputs": [
    {
     "output_type": "execute_result",
     "data": {
      "text/plain": [
       "<MeasurementPointDiagnostic> Diagnostics_F16_EnKF (Significant wave height [m])\n",
       " Time: 2017-10-27 00:00:00 - 2017-10-29 18:00:00 (397 steps; 347 with updates)\n",
       " Ensemble with 10 members\n",
       " Model: 7440 values from 1.7218 to 7.3975 with mean 3.9859\n",
       " Measurements: 125 values from 1.7495 to 7.2173 with mean 3.9901\n",
       " Mean skill: bias=0.1871, rmse=0.4057 ensemble_std=0.1365"
      ]
     },
     "metadata": {},
     "execution_count": 6
    }
   ],
   "source": [
    "diag"
   ]
  },
  {
   "cell_type": "code",
   "execution_count": 7,
   "metadata": {},
   "outputs": [
    {
     "output_type": "execute_result",
     "data": {
      "text/plain": [
       "True"
      ]
     },
     "metadata": {},
     "execution_count": 7
    }
   ],
   "source": [
    "diag.has_updates"
   ]
  },
  {
   "cell_type": "code",
   "execution_count": null,
   "metadata": {},
   "outputs": [],
   "source": []
  },
  {
   "source": [
    "## Non-measurement point diagnostic overview\n",
    "\n",
    "Non-measurement diagnostic (type 2) are always point-type. The don't have any measurement information. They behave differently depending on presence of assimilation updates or not.\n",
    "\n",
    "Non-measurement diagnostic have the following main data properties:\n",
    "\n",
    "* forecast\n",
    "* result\n",
    "\n",
    "If the file contains updates (from assimilation) it will also have properties:\n",
    "\n",
    "* forecast_at_update\n",
    "* analysis\n",
    "* increment\n",
    "\n",
    "If the file does not have updates, the forecast and result properties will be identical. "
   ],
   "cell_type": "markdown",
   "metadata": {}
  },
  {
   "cell_type": "code",
   "execution_count": null,
   "metadata": {},
   "outputs": [],
   "source": []
  },
  {
   "cell_type": "code",
   "execution_count": null,
   "metadata": {},
   "outputs": [],
   "source": [
    "fn = '../tests/testdata/Diagnostics_F16_EnKF.dfs0'\n",
    "diag = fmdap.read_diagnostic(fn)"
   ]
  }
 ]
}