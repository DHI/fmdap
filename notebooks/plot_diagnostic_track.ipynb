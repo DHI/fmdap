{
 "cells": [
  {
   "cell_type": "markdown",
   "metadata": {},
   "source": [
    "# Plot diagnostic track\n",
    "Use the diagnostic_output_altimetry module to combine track observations input file and diagnostic track output files. Plot results on map. "
   ]
  },
  {
   "cell_type": "code",
   "execution_count": 1,
   "metadata": {},
   "outputs": [],
   "source": [
    "from fmdap import diagnostic_output_altimetry"
   ]
  },
  {
   "cell_type": "code",
   "execution_count": null,
   "metadata": {},
   "outputs": [],
   "source": [
    "file_mesh = '../tests/testdata/SW_local_DWF_MSL_coarse_v2.mesh'\n",
    "file_diag = '../tests/testdata/Diagnostics_Altimetry_C2.dfs0'\n",
    "file_obs = '../tests/testdata/RADS_North_Sea_rads_c2_Dutch_102017_all_params_20km-20171027-20171029.dfs0'\n",
    "doa = diagnostic_output_altimetry.DiagnosticOutputAltimetry(file_diag, file_obs, obs_col_name='swh')"
   ]
  },
  {
   "cell_type": "code",
   "execution_count": 4,
   "metadata": {},
   "outputs": [
    {
     "data": {
      "text/html": [
       "<div>\n",
       "<style scoped>\n",
       "    .dataframe tbody tr th:only-of-type {\n",
       "        vertical-align: middle;\n",
       "    }\n",
       "\n",
       "    .dataframe tbody tr th {\n",
       "        vertical-align: top;\n",
       "    }\n",
       "\n",
       "    .dataframe thead th {\n",
       "        text-align: right;\n",
       "    }\n",
       "</style>\n",
       "<table border=\"1\" class=\"dataframe\">\n",
       "  <thead>\n",
       "    <tr style=\"text-align: right;\">\n",
       "      <th></th>\n",
       "      <th>Longitude</th>\n",
       "      <th>Latitude</th>\n",
       "      <th>State 1Sign. Wave Height</th>\n",
       "      <th>State 2Sign. Wave Height</th>\n",
       "      <th>State 3Sign. Wave Height</th>\n",
       "      <th>State 4Sign. Wave Height</th>\n",
       "      <th>State 5Sign. Wave Height</th>\n",
       "      <th>State 6Sign. Wave Height</th>\n",
       "      <th>State 7Sign. Wave Height</th>\n",
       "      <th>Mean_State</th>\n",
       "      <th>Measurement</th>\n",
       "      <th>ModelTime</th>\n",
       "    </tr>\n",
       "  </thead>\n",
       "  <tbody>\n",
       "    <tr>\n",
       "      <th>2017-10-27 12:50:00</th>\n",
       "      <td>2.422854</td>\n",
       "      <td>51.253353</td>\n",
       "      <td>0.270215</td>\n",
       "      <td>0.509852</td>\n",
       "      <td>0.336284</td>\n",
       "      <td>0.400406</td>\n",
       "      <td>0.271862</td>\n",
       "      <td>0.760079</td>\n",
       "      <td>0.055494</td>\n",
       "      <td>0.424483</td>\n",
       "      <td>1.638000</td>\n",
       "      <td>2017-10-27 12:50:00</td>\n",
       "    </tr>\n",
       "    <tr>\n",
       "      <th>2017-10-27 12:50:00</th>\n",
       "      <td>2.404706</td>\n",
       "      <td>51.367184</td>\n",
       "      <td>0.336716</td>\n",
       "      <td>0.557207</td>\n",
       "      <td>0.400530</td>\n",
       "      <td>0.443295</td>\n",
       "      <td>0.328404</td>\n",
       "      <td>0.808472</td>\n",
       "      <td>0.073816</td>\n",
       "      <td>0.470167</td>\n",
       "      <td>1.624667</td>\n",
       "      <td>2017-10-27 12:50:00</td>\n",
       "    </tr>\n",
       "    <tr>\n",
       "      <th>2017-10-27 12:50:00</th>\n",
       "      <td>2.386516</td>\n",
       "      <td>51.481014</td>\n",
       "      <td>0.358225</td>\n",
       "      <td>0.562302</td>\n",
       "      <td>0.411528</td>\n",
       "      <td>0.452109</td>\n",
       "      <td>0.347821</td>\n",
       "      <td>0.797502</td>\n",
       "      <td>0.081433</td>\n",
       "      <td>0.474679</td>\n",
       "      <td>1.800000</td>\n",
       "      <td>2017-10-27 12:50:00</td>\n",
       "    </tr>\n",
       "    <tr>\n",
       "      <th>2017-10-27 12:50:00</th>\n",
       "      <td>2.368265</td>\n",
       "      <td>51.594837</td>\n",
       "      <td>0.346750</td>\n",
       "      <td>0.550233</td>\n",
       "      <td>0.390775</td>\n",
       "      <td>0.440428</td>\n",
       "      <td>0.332866</td>\n",
       "      <td>0.789249</td>\n",
       "      <td>0.074255</td>\n",
       "      <td>0.464298</td>\n",
       "      <td>1.846000</td>\n",
       "      <td>2017-10-27 12:50:00</td>\n",
       "    </tr>\n",
       "    <tr>\n",
       "      <th>2017-10-27 12:50:00</th>\n",
       "      <td>2.340798</td>\n",
       "      <td>51.765572</td>\n",
       "      <td>0.321946</td>\n",
       "      <td>0.535287</td>\n",
       "      <td>0.360251</td>\n",
       "      <td>0.411837</td>\n",
       "      <td>0.300085</td>\n",
       "      <td>0.776280</td>\n",
       "      <td>0.063785</td>\n",
       "      <td>0.445249</td>\n",
       "      <td>1.839000</td>\n",
       "      <td>2017-10-27 12:50:00</td>\n",
       "    </tr>\n",
       "  </tbody>\n",
       "</table>\n",
       "</div>"
      ],
      "text/plain": [
       "                     Longitude   Latitude  State 1Sign. Wave Height  \\\n",
       "2017-10-27 12:50:00   2.422854  51.253353                  0.270215   \n",
       "2017-10-27 12:50:00   2.404706  51.367184                  0.336716   \n",
       "2017-10-27 12:50:00   2.386516  51.481014                  0.358225   \n",
       "2017-10-27 12:50:00   2.368265  51.594837                  0.346750   \n",
       "2017-10-27 12:50:00   2.340798  51.765572                  0.321946   \n",
       "\n",
       "                     State 2Sign. Wave Height  State 3Sign. Wave Height  \\\n",
       "2017-10-27 12:50:00                  0.509852                  0.336284   \n",
       "2017-10-27 12:50:00                  0.557207                  0.400530   \n",
       "2017-10-27 12:50:00                  0.562302                  0.411528   \n",
       "2017-10-27 12:50:00                  0.550233                  0.390775   \n",
       "2017-10-27 12:50:00                  0.535287                  0.360251   \n",
       "\n",
       "                     State 4Sign. Wave Height  State 5Sign. Wave Height  \\\n",
       "2017-10-27 12:50:00                  0.400406                  0.271862   \n",
       "2017-10-27 12:50:00                  0.443295                  0.328404   \n",
       "2017-10-27 12:50:00                  0.452109                  0.347821   \n",
       "2017-10-27 12:50:00                  0.440428                  0.332866   \n",
       "2017-10-27 12:50:00                  0.411837                  0.300085   \n",
       "\n",
       "                     State 6Sign. Wave Height  State 7Sign. Wave Height  \\\n",
       "2017-10-27 12:50:00                  0.760079                  0.055494   \n",
       "2017-10-27 12:50:00                  0.808472                  0.073816   \n",
       "2017-10-27 12:50:00                  0.797502                  0.081433   \n",
       "2017-10-27 12:50:00                  0.789249                  0.074255   \n",
       "2017-10-27 12:50:00                  0.776280                  0.063785   \n",
       "\n",
       "                     Mean_State  Measurement           ModelTime  \n",
       "2017-10-27 12:50:00    0.424483     1.638000 2017-10-27 12:50:00  \n",
       "2017-10-27 12:50:00    0.470167     1.624667 2017-10-27 12:50:00  \n",
       "2017-10-27 12:50:00    0.474679     1.800000 2017-10-27 12:50:00  \n",
       "2017-10-27 12:50:00    0.464298     1.846000 2017-10-27 12:50:00  \n",
       "2017-10-27 12:50:00    0.445249     1.839000 2017-10-27 12:50:00  "
      ]
     },
     "execution_count": 4,
     "metadata": {},
     "output_type": "execute_result"
    }
   ],
   "source": [
    "# Diagnostic output data \n",
    "doa.dfd.head()"
   ]
  },
  {
   "cell_type": "code",
   "execution_count": 5,
   "metadata": {},
   "outputs": [
    {
     "data": {
      "text/html": [
       "<div>\n",
       "<style scoped>\n",
       "    .dataframe tbody tr th:only-of-type {\n",
       "        vertical-align: middle;\n",
       "    }\n",
       "\n",
       "    .dataframe tbody tr th {\n",
       "        vertical-align: top;\n",
       "    }\n",
       "\n",
       "    .dataframe thead th {\n",
       "        text-align: right;\n",
       "    }\n",
       "</style>\n",
       "<table border=\"1\" class=\"dataframe\">\n",
       "  <thead>\n",
       "    <tr style=\"text-align: right;\">\n",
       "      <th></th>\n",
       "      <th>lon</th>\n",
       "      <th>lat</th>\n",
       "      <th>track_observation</th>\n",
       "      <th>ws</th>\n",
       "      <th>adt dhi</th>\n",
       "      <th>adt</th>\n",
       "    </tr>\n",
       "  </thead>\n",
       "  <tbody>\n",
       "    <tr>\n",
       "      <th>2017-10-27 12:52:52.337</th>\n",
       "      <td>2.422854</td>\n",
       "      <td>51.253353</td>\n",
       "      <td>1.638</td>\n",
       "      <td>7.50</td>\n",
       "      <td>-0.5060</td>\n",
       "      <td>0.4956</td>\n",
       "    </tr>\n",
       "    <tr>\n",
       "      <th>2017-10-27 12:52:53.280</th>\n",
       "      <td>2.413789</td>\n",
       "      <td>51.310268</td>\n",
       "      <td>1.383</td>\n",
       "      <td>7.67</td>\n",
       "      <td>-0.4370</td>\n",
       "      <td>0.5204</td>\n",
       "    </tr>\n",
       "    <tr>\n",
       "      <th>2017-10-27 12:52:54.224</th>\n",
       "      <td>2.404711</td>\n",
       "      <td>51.367184</td>\n",
       "      <td>1.791</td>\n",
       "      <td>7.60</td>\n",
       "      <td>-0.4558</td>\n",
       "      <td>0.4527</td>\n",
       "    </tr>\n",
       "    <tr>\n",
       "      <th>2017-10-27 12:52:55.167</th>\n",
       "      <td>2.395619</td>\n",
       "      <td>51.424099</td>\n",
       "      <td>1.700</td>\n",
       "      <td>7.71</td>\n",
       "      <td>-0.4174</td>\n",
       "      <td>0.4391</td>\n",
       "    </tr>\n",
       "    <tr>\n",
       "      <th>2017-10-27 12:52:56.111</th>\n",
       "      <td>2.386516</td>\n",
       "      <td>51.481014</td>\n",
       "      <td>1.800</td>\n",
       "      <td>7.85</td>\n",
       "      <td>-0.4214</td>\n",
       "      <td>0.3807</td>\n",
       "    </tr>\n",
       "  </tbody>\n",
       "</table>\n",
       "</div>"
      ],
      "text/plain": [
       "                              lon        lat  track_observation    ws  \\\n",
       "2017-10-27 12:52:52.337  2.422854  51.253353              1.638  7.50   \n",
       "2017-10-27 12:52:53.280  2.413789  51.310268              1.383  7.67   \n",
       "2017-10-27 12:52:54.224  2.404711  51.367184              1.791  7.60   \n",
       "2017-10-27 12:52:55.167  2.395619  51.424099              1.700  7.71   \n",
       "2017-10-27 12:52:56.111  2.386516  51.481014              1.800  7.85   \n",
       "\n",
       "                         adt dhi     adt  \n",
       "2017-10-27 12:52:52.337  -0.5060  0.4956  \n",
       "2017-10-27 12:52:53.280  -0.4370  0.5204  \n",
       "2017-10-27 12:52:54.224  -0.4558  0.4527  \n",
       "2017-10-27 12:52:55.167  -0.4174  0.4391  \n",
       "2017-10-27 12:52:56.111  -0.4214  0.3807  "
      ]
     },
     "execution_count": 5,
     "metadata": {},
     "output_type": "execute_result"
    }
   ],
   "source": [
    "# Original observation data, note that the 'swh' column has been renamed to 'track_observation'\n",
    "doa.dfo.head()"
   ]
  },
  {
   "cell_type": "markdown",
   "metadata": {},
   "source": [
    "## Remove observation data outside mesh"
   ]
  },
  {
   "cell_type": "code",
   "execution_count": null,
   "metadata": {},
   "outputs": [],
   "source": [
    "doa.read_mesh(file_mesh)\n",
    "doa.remove_points_outside_mesh()"
   ]
  },
  {
   "cell_type": "markdown",
   "metadata": {},
   "source": [
    "## Now match data from the two dataframes"
   ]
  },
  {
   "cell_type": "code",
   "execution_count": null,
   "metadata": {},
   "outputs": [],
   "source": [
    "doa.process()"
   ]
  },
  {
   "cell_type": "code",
   "execution_count": null,
   "metadata": {},
   "outputs": [],
   "source": [
    "doa.dfda.head()"
   ]
  },
  {
   "cell_type": "markdown",
   "metadata": {},
   "source": [
    "## Tracks can be plotted with or without map"
   ]
  },
  {
   "cell_type": "code",
   "execution_count": null,
   "metadata": {},
   "outputs": [],
   "source": [
    "doa.plot_track_with_map(track_id=0, figsize=(10,6), title='Significant wave height');"
   ]
  },
  {
   "cell_type": "code",
   "execution_count": null,
   "metadata": {},
   "outputs": [],
   "source": []
  }
 ],
 "metadata": {
  "kernelspec": {
   "display_name": ".venv",
   "language": "python",
   "name": "python3"
  },
  "language_info": {
   "codemirror_mode": {
    "name": "ipython",
    "version": 3
   },
   "file_extension": ".py",
   "mimetype": "text/x-python",
   "name": "python",
   "nbconvert_exporter": "python",
   "pygments_lexer": "ipython3",
   "version": "3.13.0"
  },
  "orig_nbformat": 2
 },
 "nbformat": 4,
 "nbformat_minor": 2
}
