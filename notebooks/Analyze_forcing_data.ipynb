{
 "cells": [
  {
   "cell_type": "markdown",
   "source": [
    "# Analyze forcing data\r\n",
    "Estimate half-life and correlation length scales"
   ],
   "metadata": {}
  },
  {
   "cell_type": "code",
   "execution_count": 55,
   "source": [
    "from fmdap import AR1\r\n",
    "from mikeio import Dfsu\r\n",
    "%load_ext autoreload\r\n",
    "%autoreload 2"
   ],
   "outputs": [
    {
     "output_type": "stream",
     "name": "stdout",
     "text": [
      "The autoreload extension is already loaded. To reload it, use:\n",
      "  %reload_ext autoreload\n"
     ]
    }
   ],
   "metadata": {}
  },
  {
   "cell_type": "code",
   "execution_count": 4,
   "source": [
    "wind_file = '../tests/testdata/Wind_1hr.dfsu'\r\n",
    "dfs = Dfsu(wind_file)\r\n",
    "dfs"
   ],
   "outputs": [
    {
     "output_type": "execute_result",
     "data": {
      "text/plain": [
       "Dfsu2D\n",
       "Number of elements: 958\n",
       "Number of nodes: 570\n",
       "Projection: LONG/LAT\n",
       "Items:\n",
       "  0:  Wind speed <Wind speed> (meter per sec)\n",
       "  1:  Wind direction <Wind Direction> (degree)\n",
       "Time: 67 steps with dt=3600.0s\n",
       "      2017-10-27 00:00:00 -- 2017-10-29 18:00:00"
      ]
     },
     "metadata": {},
     "execution_count": 4
    }
   ],
   "metadata": {}
  },
  {
   "cell_type": "markdown",
   "source": [
    "## Estimate half-life\r\n",
    "Assuming the wind time propagation is a AR(1) process. We extract a time series in a random point and estimate the half-life."
   ],
   "metadata": {}
  },
  {
   "cell_type": "code",
   "execution_count": 98,
   "source": [
    "df = dfs.read(items=[\"Wind speed\"], elements=[45]).to_dataframe()"
   ],
   "outputs": [],
   "metadata": {}
  },
  {
   "cell_type": "code",
   "execution_count": 99,
   "source": [
    "df.plot();"
   ],
   "outputs": [
    {
     "output_type": "execute_result",
     "data": {
      "text/plain": [
       "<AxesSubplot:>"
      ]
     },
     "metadata": {},
     "execution_count": 99
    },
    {
     "output_type": "display_data",
     "data": {
      "text/plain": [
       "<Figure size 432x288 with 1 Axes>"
      ],
      "image/png": "[encoded data removed]"
     },
     "metadata": {
      "needs_background": "light"
     }
    }
   ],
   "metadata": {}
  },
  {
   "cell_type": "code",
   "execution_count": 102,
   "source": [
    "rho = AR1.estimate_AR1_halflife(df)\r\n",
    "rho/3600   # half life in hours"
   ],
   "outputs": [
    {
     "output_type": "execute_result",
     "data": {
      "text/plain": [
       "33.99428940899274"
      ]
     },
     "metadata": {},
     "execution_count": 102
    }
   ],
   "metadata": {}
  },
  {
   "cell_type": "markdown",
   "source": [
    "## Estimate spatial correlation"
   ],
   "metadata": {}
  },
  {
   "cell_type": "code",
   "execution_count": 103,
   "source": [
    "ds = dfs.read(items=[\"Wind speed\"], elements=[1,4,10,123,451])"
   ],
   "outputs": [],
   "metadata": {}
  }
 ],
 "metadata": {
  "orig_nbformat": 4,
  "language_info": {
   "name": "python",
   "version": "3.8.10",
   "mimetype": "text/x-python",
   "codemirror_mode": {
    "name": "ipython",
    "version": 3
   },
   "pygments_lexer": "ipython3",
   "nbconvert_exporter": "python",
   "file_extension": ".py"
  },
  "kernelspec": {
   "name": "python3",
   "display_name": "Python 3.8.10 64-bit ('base': conda)"
  },
  "interpreter": {
   "hash": "fa576ebcd40e010bdc0ae86b06ce09151f3424f9e9aed6893ff04f39a9299d89"
  }
 },
 "nbformat": 4,
 "nbformat_minor": 2
}